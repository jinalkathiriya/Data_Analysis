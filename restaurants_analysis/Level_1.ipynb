{
 "cells": [
  {
   "cell_type": "markdown",
   "id": "8f77132b-8541-4fd0-8141-717c36635f1e",
   "metadata": {},
   "source": [
    "## LEVEL 1"
   ]
  },
  {
   "cell_type": "code",
   "execution_count": 1,
   "id": "f534ba00-d92a-4613-8693-d04ecaf2469c",
   "metadata": {},
   "outputs": [],
   "source": [
    "import pandas as pd"
   ]
  },
  {
   "cell_type": "code",
   "execution_count": 2,
   "id": "56bc9f05-f047-4865-8a4e-3dedfd5ac734",
   "metadata": {},
   "outputs": [
    {
     "data": {
      "text/html": [
       "<div>\n",
       "<style scoped>\n",
       "    .dataframe tbody tr th:only-of-type {\n",
       "        vertical-align: middle;\n",
       "    }\n",
       "\n",
       "    .dataframe tbody tr th {\n",
       "        vertical-align: top;\n",
       "    }\n",
       "\n",
       "    .dataframe thead th {\n",
       "        text-align: right;\n",
       "    }\n",
       "</style>\n",
       "<table border=\"1\" class=\"dataframe\">\n",
       "  <thead>\n",
       "    <tr style=\"text-align: right;\">\n",
       "      <th></th>\n",
       "      <th>Restaurant ID</th>\n",
       "      <th>Restaurant Name</th>\n",
       "      <th>Country Code</th>\n",
       "      <th>City</th>\n",
       "      <th>Address</th>\n",
       "      <th>Locality</th>\n",
       "      <th>Locality Verbose</th>\n",
       "      <th>Longitude</th>\n",
       "      <th>Latitude</th>\n",
       "      <th>Cuisines</th>\n",
       "      <th>...</th>\n",
       "      <th>Currency</th>\n",
       "      <th>Has Table booking</th>\n",
       "      <th>Has Online delivery</th>\n",
       "      <th>Is delivering now</th>\n",
       "      <th>Switch to order menu</th>\n",
       "      <th>Price range</th>\n",
       "      <th>Aggregate rating</th>\n",
       "      <th>Rating color</th>\n",
       "      <th>Rating text</th>\n",
       "      <th>Votes</th>\n",
       "    </tr>\n",
       "  </thead>\n",
       "  <tbody>\n",
       "    <tr>\n",
       "      <th>0</th>\n",
       "      <td>6317637</td>\n",
       "      <td>Le Petit Souffle</td>\n",
       "      <td>162</td>\n",
       "      <td>Makati City</td>\n",
       "      <td>Third Floor, Century City Mall, Kalayaan Avenu...</td>\n",
       "      <td>Century City Mall, Poblacion, Makati City</td>\n",
       "      <td>Century City Mall, Poblacion, Makati City, Mak...</td>\n",
       "      <td>121.027535</td>\n",
       "      <td>14.565443</td>\n",
       "      <td>French, Japanese, Desserts</td>\n",
       "      <td>...</td>\n",
       "      <td>Botswana Pula(P)</td>\n",
       "      <td>Yes</td>\n",
       "      <td>No</td>\n",
       "      <td>No</td>\n",
       "      <td>No</td>\n",
       "      <td>3</td>\n",
       "      <td>4.8</td>\n",
       "      <td>Dark Green</td>\n",
       "      <td>Excellent</td>\n",
       "      <td>314</td>\n",
       "    </tr>\n",
       "    <tr>\n",
       "      <th>1</th>\n",
       "      <td>6304287</td>\n",
       "      <td>Izakaya Kikufuji</td>\n",
       "      <td>162</td>\n",
       "      <td>Makati City</td>\n",
       "      <td>Little Tokyo, 2277 Chino Roces Avenue, Legaspi...</td>\n",
       "      <td>Little Tokyo, Legaspi Village, Makati City</td>\n",
       "      <td>Little Tokyo, Legaspi Village, Makati City, Ma...</td>\n",
       "      <td>121.014101</td>\n",
       "      <td>14.553708</td>\n",
       "      <td>Japanese</td>\n",
       "      <td>...</td>\n",
       "      <td>Botswana Pula(P)</td>\n",
       "      <td>Yes</td>\n",
       "      <td>No</td>\n",
       "      <td>No</td>\n",
       "      <td>No</td>\n",
       "      <td>3</td>\n",
       "      <td>4.5</td>\n",
       "      <td>Dark Green</td>\n",
       "      <td>Excellent</td>\n",
       "      <td>591</td>\n",
       "    </tr>\n",
       "    <tr>\n",
       "      <th>2</th>\n",
       "      <td>6300002</td>\n",
       "      <td>Heat - Edsa Shangri-La</td>\n",
       "      <td>162</td>\n",
       "      <td>Mandaluyong City</td>\n",
       "      <td>Edsa Shangri-La, 1 Garden Way, Ortigas, Mandal...</td>\n",
       "      <td>Edsa Shangri-La, Ortigas, Mandaluyong City</td>\n",
       "      <td>Edsa Shangri-La, Ortigas, Mandaluyong City, Ma...</td>\n",
       "      <td>121.056831</td>\n",
       "      <td>14.581404</td>\n",
       "      <td>Seafood, Asian, Filipino, Indian</td>\n",
       "      <td>...</td>\n",
       "      <td>Botswana Pula(P)</td>\n",
       "      <td>Yes</td>\n",
       "      <td>No</td>\n",
       "      <td>No</td>\n",
       "      <td>No</td>\n",
       "      <td>4</td>\n",
       "      <td>4.4</td>\n",
       "      <td>Green</td>\n",
       "      <td>Very Good</td>\n",
       "      <td>270</td>\n",
       "    </tr>\n",
       "    <tr>\n",
       "      <th>3</th>\n",
       "      <td>6318506</td>\n",
       "      <td>Ooma</td>\n",
       "      <td>162</td>\n",
       "      <td>Mandaluyong City</td>\n",
       "      <td>Third Floor, Mega Fashion Hall, SM Megamall, O...</td>\n",
       "      <td>SM Megamall, Ortigas, Mandaluyong City</td>\n",
       "      <td>SM Megamall, Ortigas, Mandaluyong City, Mandal...</td>\n",
       "      <td>121.056475</td>\n",
       "      <td>14.585318</td>\n",
       "      <td>Japanese, Sushi</td>\n",
       "      <td>...</td>\n",
       "      <td>Botswana Pula(P)</td>\n",
       "      <td>No</td>\n",
       "      <td>No</td>\n",
       "      <td>No</td>\n",
       "      <td>No</td>\n",
       "      <td>4</td>\n",
       "      <td>4.9</td>\n",
       "      <td>Dark Green</td>\n",
       "      <td>Excellent</td>\n",
       "      <td>365</td>\n",
       "    </tr>\n",
       "    <tr>\n",
       "      <th>4</th>\n",
       "      <td>6314302</td>\n",
       "      <td>Sambo Kojin</td>\n",
       "      <td>162</td>\n",
       "      <td>Mandaluyong City</td>\n",
       "      <td>Third Floor, Mega Atrium, SM Megamall, Ortigas...</td>\n",
       "      <td>SM Megamall, Ortigas, Mandaluyong City</td>\n",
       "      <td>SM Megamall, Ortigas, Mandaluyong City, Mandal...</td>\n",
       "      <td>121.057508</td>\n",
       "      <td>14.584450</td>\n",
       "      <td>Japanese, Korean</td>\n",
       "      <td>...</td>\n",
       "      <td>Botswana Pula(P)</td>\n",
       "      <td>Yes</td>\n",
       "      <td>No</td>\n",
       "      <td>No</td>\n",
       "      <td>No</td>\n",
       "      <td>4</td>\n",
       "      <td>4.8</td>\n",
       "      <td>Dark Green</td>\n",
       "      <td>Excellent</td>\n",
       "      <td>229</td>\n",
       "    </tr>\n",
       "    <tr>\n",
       "      <th>...</th>\n",
       "      <td>...</td>\n",
       "      <td>...</td>\n",
       "      <td>...</td>\n",
       "      <td>...</td>\n",
       "      <td>...</td>\n",
       "      <td>...</td>\n",
       "      <td>...</td>\n",
       "      <td>...</td>\n",
       "      <td>...</td>\n",
       "      <td>...</td>\n",
       "      <td>...</td>\n",
       "      <td>...</td>\n",
       "      <td>...</td>\n",
       "      <td>...</td>\n",
       "      <td>...</td>\n",
       "      <td>...</td>\n",
       "      <td>...</td>\n",
       "      <td>...</td>\n",
       "      <td>...</td>\n",
       "      <td>...</td>\n",
       "      <td>...</td>\n",
       "    </tr>\n",
       "    <tr>\n",
       "      <th>9546</th>\n",
       "      <td>5915730</td>\n",
       "      <td>Naml۱ Gurme</td>\n",
       "      <td>208</td>\n",
       "      <td>��stanbul</td>\n",
       "      <td>Kemanke�� Karamustafa Pa��a Mahallesi, R۱ht۱m ...</td>\n",
       "      <td>Karak�_y</td>\n",
       "      <td>Karak�_y, ��stanbul</td>\n",
       "      <td>28.977392</td>\n",
       "      <td>41.022793</td>\n",
       "      <td>Turkish</td>\n",
       "      <td>...</td>\n",
       "      <td>Turkish Lira(TL)</td>\n",
       "      <td>No</td>\n",
       "      <td>No</td>\n",
       "      <td>No</td>\n",
       "      <td>No</td>\n",
       "      <td>3</td>\n",
       "      <td>4.1</td>\n",
       "      <td>Green</td>\n",
       "      <td>Very Good</td>\n",
       "      <td>788</td>\n",
       "    </tr>\n",
       "    <tr>\n",
       "      <th>9547</th>\n",
       "      <td>5908749</td>\n",
       "      <td>Ceviz A��ac۱</td>\n",
       "      <td>208</td>\n",
       "      <td>��stanbul</td>\n",
       "      <td>Ko��uyolu Mahallesi, Muhittin ��st�_nda�� Cadd...</td>\n",
       "      <td>Ko��uyolu</td>\n",
       "      <td>Ko��uyolu, ��stanbul</td>\n",
       "      <td>29.041297</td>\n",
       "      <td>41.009847</td>\n",
       "      <td>World Cuisine, Patisserie, Cafe</td>\n",
       "      <td>...</td>\n",
       "      <td>Turkish Lira(TL)</td>\n",
       "      <td>No</td>\n",
       "      <td>No</td>\n",
       "      <td>No</td>\n",
       "      <td>No</td>\n",
       "      <td>3</td>\n",
       "      <td>4.2</td>\n",
       "      <td>Green</td>\n",
       "      <td>Very Good</td>\n",
       "      <td>1034</td>\n",
       "    </tr>\n",
       "    <tr>\n",
       "      <th>9548</th>\n",
       "      <td>5915807</td>\n",
       "      <td>Huqqa</td>\n",
       "      <td>208</td>\n",
       "      <td>��stanbul</td>\n",
       "      <td>Kuru�_e��me Mahallesi, Muallim Naci Caddesi, N...</td>\n",
       "      <td>Kuru�_e��me</td>\n",
       "      <td>Kuru�_e��me, ��stanbul</td>\n",
       "      <td>29.034640</td>\n",
       "      <td>41.055817</td>\n",
       "      <td>Italian, World Cuisine</td>\n",
       "      <td>...</td>\n",
       "      <td>Turkish Lira(TL)</td>\n",
       "      <td>No</td>\n",
       "      <td>No</td>\n",
       "      <td>No</td>\n",
       "      <td>No</td>\n",
       "      <td>4</td>\n",
       "      <td>3.7</td>\n",
       "      <td>Yellow</td>\n",
       "      <td>Good</td>\n",
       "      <td>661</td>\n",
       "    </tr>\n",
       "    <tr>\n",
       "      <th>9549</th>\n",
       "      <td>5916112</td>\n",
       "      <td>A���k Kahve</td>\n",
       "      <td>208</td>\n",
       "      <td>��stanbul</td>\n",
       "      <td>Kuru�_e��me Mahallesi, Muallim Naci Caddesi, N...</td>\n",
       "      <td>Kuru�_e��me</td>\n",
       "      <td>Kuru�_e��me, ��stanbul</td>\n",
       "      <td>29.036019</td>\n",
       "      <td>41.057979</td>\n",
       "      <td>Restaurant Cafe</td>\n",
       "      <td>...</td>\n",
       "      <td>Turkish Lira(TL)</td>\n",
       "      <td>No</td>\n",
       "      <td>No</td>\n",
       "      <td>No</td>\n",
       "      <td>No</td>\n",
       "      <td>4</td>\n",
       "      <td>4.0</td>\n",
       "      <td>Green</td>\n",
       "      <td>Very Good</td>\n",
       "      <td>901</td>\n",
       "    </tr>\n",
       "    <tr>\n",
       "      <th>9550</th>\n",
       "      <td>5927402</td>\n",
       "      <td>Walter's Coffee Roastery</td>\n",
       "      <td>208</td>\n",
       "      <td>��stanbul</td>\n",
       "      <td>Cafea��a Mahallesi, Bademalt۱ Sokak, No 21/B, ...</td>\n",
       "      <td>Moda</td>\n",
       "      <td>Moda, ��stanbul</td>\n",
       "      <td>29.026016</td>\n",
       "      <td>40.984776</td>\n",
       "      <td>Cafe</td>\n",
       "      <td>...</td>\n",
       "      <td>Turkish Lira(TL)</td>\n",
       "      <td>No</td>\n",
       "      <td>No</td>\n",
       "      <td>No</td>\n",
       "      <td>No</td>\n",
       "      <td>2</td>\n",
       "      <td>4.0</td>\n",
       "      <td>Green</td>\n",
       "      <td>Very Good</td>\n",
       "      <td>591</td>\n",
       "    </tr>\n",
       "  </tbody>\n",
       "</table>\n",
       "<p>9551 rows × 21 columns</p>\n",
       "</div>"
      ],
      "text/plain": [
       "      Restaurant ID           Restaurant Name  Country Code              City  \\\n",
       "0           6317637          Le Petit Souffle           162       Makati City   \n",
       "1           6304287          Izakaya Kikufuji           162       Makati City   \n",
       "2           6300002    Heat - Edsa Shangri-La           162  Mandaluyong City   \n",
       "3           6318506                      Ooma           162  Mandaluyong City   \n",
       "4           6314302               Sambo Kojin           162  Mandaluyong City   \n",
       "...             ...                       ...           ...               ...   \n",
       "9546        5915730               Naml۱ Gurme           208         ��stanbul   \n",
       "9547        5908749              Ceviz A��ac۱           208         ��stanbul   \n",
       "9548        5915807                     Huqqa           208         ��stanbul   \n",
       "9549        5916112               A���k Kahve           208         ��stanbul   \n",
       "9550        5927402  Walter's Coffee Roastery           208         ��stanbul   \n",
       "\n",
       "                                                Address  \\\n",
       "0     Third Floor, Century City Mall, Kalayaan Avenu...   \n",
       "1     Little Tokyo, 2277 Chino Roces Avenue, Legaspi...   \n",
       "2     Edsa Shangri-La, 1 Garden Way, Ortigas, Mandal...   \n",
       "3     Third Floor, Mega Fashion Hall, SM Megamall, O...   \n",
       "4     Third Floor, Mega Atrium, SM Megamall, Ortigas...   \n",
       "...                                                 ...   \n",
       "9546  Kemanke�� Karamustafa Pa��a Mahallesi, R۱ht۱m ...   \n",
       "9547  Ko��uyolu Mahallesi, Muhittin ��st�_nda�� Cadd...   \n",
       "9548  Kuru�_e��me Mahallesi, Muallim Naci Caddesi, N...   \n",
       "9549  Kuru�_e��me Mahallesi, Muallim Naci Caddesi, N...   \n",
       "9550  Cafea��a Mahallesi, Bademalt۱ Sokak, No 21/B, ...   \n",
       "\n",
       "                                        Locality  \\\n",
       "0      Century City Mall, Poblacion, Makati City   \n",
       "1     Little Tokyo, Legaspi Village, Makati City   \n",
       "2     Edsa Shangri-La, Ortigas, Mandaluyong City   \n",
       "3         SM Megamall, Ortigas, Mandaluyong City   \n",
       "4         SM Megamall, Ortigas, Mandaluyong City   \n",
       "...                                          ...   \n",
       "9546                                    Karak�_y   \n",
       "9547                                   Ko��uyolu   \n",
       "9548                                 Kuru�_e��me   \n",
       "9549                                 Kuru�_e��me   \n",
       "9550                                        Moda   \n",
       "\n",
       "                                       Locality Verbose   Longitude  \\\n",
       "0     Century City Mall, Poblacion, Makati City, Mak...  121.027535   \n",
       "1     Little Tokyo, Legaspi Village, Makati City, Ma...  121.014101   \n",
       "2     Edsa Shangri-La, Ortigas, Mandaluyong City, Ma...  121.056831   \n",
       "3     SM Megamall, Ortigas, Mandaluyong City, Mandal...  121.056475   \n",
       "4     SM Megamall, Ortigas, Mandaluyong City, Mandal...  121.057508   \n",
       "...                                                 ...         ...   \n",
       "9546                                Karak�_y, ��stanbul   28.977392   \n",
       "9547                               Ko��uyolu, ��stanbul   29.041297   \n",
       "9548                             Kuru�_e��me, ��stanbul   29.034640   \n",
       "9549                             Kuru�_e��me, ��stanbul   29.036019   \n",
       "9550                                    Moda, ��stanbul   29.026016   \n",
       "\n",
       "       Latitude                          Cuisines  ...          Currency  \\\n",
       "0     14.565443        French, Japanese, Desserts  ...  Botswana Pula(P)   \n",
       "1     14.553708                          Japanese  ...  Botswana Pula(P)   \n",
       "2     14.581404  Seafood, Asian, Filipino, Indian  ...  Botswana Pula(P)   \n",
       "3     14.585318                   Japanese, Sushi  ...  Botswana Pula(P)   \n",
       "4     14.584450                  Japanese, Korean  ...  Botswana Pula(P)   \n",
       "...         ...                               ...  ...               ...   \n",
       "9546  41.022793                           Turkish  ...  Turkish Lira(TL)   \n",
       "9547  41.009847   World Cuisine, Patisserie, Cafe  ...  Turkish Lira(TL)   \n",
       "9548  41.055817            Italian, World Cuisine  ...  Turkish Lira(TL)   \n",
       "9549  41.057979                   Restaurant Cafe  ...  Turkish Lira(TL)   \n",
       "9550  40.984776                              Cafe  ...  Turkish Lira(TL)   \n",
       "\n",
       "     Has Table booking Has Online delivery Is delivering now  \\\n",
       "0                  Yes                  No                No   \n",
       "1                  Yes                  No                No   \n",
       "2                  Yes                  No                No   \n",
       "3                   No                  No                No   \n",
       "4                  Yes                  No                No   \n",
       "...                ...                 ...               ...   \n",
       "9546                No                  No                No   \n",
       "9547                No                  No                No   \n",
       "9548                No                  No                No   \n",
       "9549                No                  No                No   \n",
       "9550                No                  No                No   \n",
       "\n",
       "     Switch to order menu Price range  Aggregate rating  Rating color  \\\n",
       "0                      No           3               4.8    Dark Green   \n",
       "1                      No           3               4.5    Dark Green   \n",
       "2                      No           4               4.4         Green   \n",
       "3                      No           4               4.9    Dark Green   \n",
       "4                      No           4               4.8    Dark Green   \n",
       "...                   ...         ...               ...           ...   \n",
       "9546                   No           3               4.1         Green   \n",
       "9547                   No           3               4.2         Green   \n",
       "9548                   No           4               3.7        Yellow   \n",
       "9549                   No           4               4.0         Green   \n",
       "9550                   No           2               4.0         Green   \n",
       "\n",
       "     Rating text Votes  \n",
       "0      Excellent   314  \n",
       "1      Excellent   591  \n",
       "2      Very Good   270  \n",
       "3      Excellent   365  \n",
       "4      Excellent   229  \n",
       "...          ...   ...  \n",
       "9546   Very Good   788  \n",
       "9547   Very Good  1034  \n",
       "9548        Good   661  \n",
       "9549   Very Good   901  \n",
       "9550   Very Good   591  \n",
       "\n",
       "[9551 rows x 21 columns]"
      ]
     },
     "execution_count": 2,
     "metadata": {},
     "output_type": "execute_result"
    }
   ],
   "source": [
    "df = pd.read_csv('restaurants.csv')\n",
    "df"
   ]
  },
  {
   "cell_type": "markdown",
   "id": "902529c2-cac8-4f91-be7d-f3675f002ca7",
   "metadata": {},
   "source": [
    "## Task 1 : Top Cuisines"
   ]
  },
  {
   "cell_type": "markdown",
   "id": "be37a2f0-bb02-4140-9406-04a0dd911229",
   "metadata": {},
   "source": [
    "## Determine the top three most common cuisines in the dataset"
   ]
  },
  {
   "cell_type": "code",
   "execution_count": 3,
   "id": "7b2f684d-42f8-46cf-bfda-070a3bcc4779",
   "metadata": {},
   "outputs": [
    {
     "name": "stdout",
     "output_type": "stream",
     "text": [
      "Cuisines\n",
      "North Indian             936\n",
      "North Indian, Chinese    511\n",
      "Chinese                  354\n",
      "Name: count, dtype: int64\n"
     ]
    }
   ],
   "source": [
    "cuisine_counts = df['Cuisines'].value_counts().head(3)\n",
    "\n",
    "print(cuisine_counts)"
   ]
  },
  {
   "cell_type": "markdown",
   "id": "325bb449-35e8-4751-b70e-67b4c770ff76",
   "metadata": {},
   "source": [
    "## Calculate the percentage of restaurants that serve each of the top cuisines.\n"
   ]
  },
  {
   "cell_type": "code",
   "execution_count": 5,
   "id": "758e8226-a4ed-4105-b0ca-12bd9f96bbf9",
   "metadata": {},
   "outputs": [
    {
     "name": "stdout",
     "output_type": "stream",
     "text": [
      "Cuisines\n",
      "North Indian             9.800021\n",
      "North Indian, Chinese    5.350225\n",
      "Chinese                  3.706418\n",
      "Name: count, dtype: float64\n"
     ]
    }
   ],
   "source": [
    "total_restaurants = len(df)\n",
    "top_cuisines_percentage = (cuisine_counts / total_restaurants) * 100\n",
    "\n",
    "print(top_cuisines_percentage)"
   ]
  },
  {
   "cell_type": "markdown",
   "id": "83598bf1-a67b-4f05-aa2c-03c4246e923d",
   "metadata": {},
   "source": [
    "## Task 2 : City Analysis"
   ]
  },
  {
   "cell_type": "markdown",
   "id": "6746ae85-92b6-4c24-9fba-3f5750de4345",
   "metadata": {},
   "source": [
    "## Identify the city with the highest number of restaurants in the dataset.\n"
   ]
  },
  {
   "cell_type": "code",
   "execution_count": 6,
   "id": "4f53ff2d-6a4c-464f-8443-993c7250aed5",
   "metadata": {},
   "outputs": [
    {
     "name": "stdout",
     "output_type": "stream",
     "text": [
      "City with the highest number of restaurants:\n",
      "New Delhi with 5473 restaurants\n"
     ]
    }
   ],
   "source": [
    "city_counts = df['City'].value_counts()\n",
    "\n",
    "print(\"City with the highest number of restaurants:\")\n",
    "print(city_counts.index[0], \"with\", city_counts.values[0], \"restaurants\")"
   ]
  },
  {
   "cell_type": "markdown",
   "id": "9935d97a-804b-4225-be38-4ba88a8a2fed",
   "metadata": {},
   "source": [
    "## Calculate the average rating for restaurants in each city.\r"
   ]
  },
  {
   "cell_type": "code",
   "execution_count": 7,
   "id": "54fb9ff6-0102-4f47-b5e4-cdd386890cda",
   "metadata": {},
   "outputs": [
    {
     "name": "stdout",
     "output_type": "stream",
     "text": [
      "Proportion of color ratings for restaurants in each city:\n",
      "City            Rating color\n",
      "Abu Dhabi       Green           0.600000\n",
      "                Dark Green      0.350000\n",
      "                Yellow          0.050000\n",
      "Agra            Green           0.450000\n",
      "                Yellow          0.450000\n",
      "                                  ...   \n",
      "Winchester Bay  Orange          1.000000\n",
      "Yorkton         Orange          1.000000\n",
      "��stanbul       Green           0.500000\n",
      "                Dark Green      0.357143\n",
      "                Yellow          0.142857\n",
      "Name: proportion, Length: 347, dtype: float64\n"
     ]
    }
   ],
   "source": [
    "city_color_ratings = df.groupby('City')['Rating color'].value_counts(normalize=True)\n",
    "\n",
    "print(\"Proportion of color ratings for restaurants in each city:\")\n",
    "print(city_color_ratings)"
   ]
  },
  {
   "cell_type": "code",
   "execution_count": 8,
   "id": "2182ae35-efee-4863-b3b7-86a127a019bb",
   "metadata": {},
   "outputs": [
    {
     "name": "stdout",
     "output_type": "stream",
     "text": [
      "Average color ratings (numerical) for restaurants in each city:\n",
      "City\n",
      "Abu Dhabi          5.300000\n",
      "Agra               4.578947\n",
      "Ahmedabad          4.904762\n",
      "Albany             4.000000\n",
      "Allahabad          4.000000\n",
      "                     ...   \n",
      "Weirton            4.000000\n",
      "Wellington City    5.100000\n",
      "Winchester Bay          NaN\n",
      "Yorkton                 NaN\n",
      "��stanbul          5.214286\n",
      "Name: Rating color_num, Length: 141, dtype: float64\n"
     ]
    }
   ],
   "source": [
    "rating_mapping = {'Dark Green': 6, 'Green': 5, 'Yellow': 4, 'orange' : 3, 'white' : 2, 'red' : 1}  # example mapping\n",
    "\n",
    "df['Rating color_num'] = df['Rating color'].map(rating_mapping)\n",
    "\n",
    "city_color_ratings_num = df.groupby('City')['Rating color_num'].mean()\n",
    "\n",
    "print(\"Average color ratings (numerical) for restaurants in each city:\")\n",
    "print(city_color_ratings_num)"
   ]
  },
  {
   "cell_type": "code",
   "execution_count": 9,
   "id": "75e9cbc1-5faf-4014-a2a0-ccfbabaf79d6",
   "metadata": {},
   "outputs": [
    {
     "name": "stdout",
     "output_type": "stream",
     "text": [
      "Proportion of text ratings for restaurants in each city:\n",
      "City            Rating text\n",
      "Abu Dhabi       Very Good      0.600000\n",
      "                Excellent      0.350000\n",
      "                Good           0.050000\n",
      "Agra            Very Good      0.450000\n",
      "                Good           0.450000\n",
      "                                 ...   \n",
      "Winchester Bay  Average        1.000000\n",
      "Yorkton         Average        1.000000\n",
      "��stanbul       Very Good      0.500000\n",
      "                Excellent      0.357143\n",
      "                Good           0.142857\n",
      "Name: proportion, Length: 347, dtype: float64\n"
     ]
    }
   ],
   "source": [
    "city_text_ratings = df.groupby('City')['Rating text'].value_counts(normalize=True)\n",
    "\n",
    "print(\"Proportion of text ratings for restaurants in each city:\")\n",
    "print(city_text_ratings)"
   ]
  },
  {
   "cell_type": "code",
   "execution_count": 10,
   "id": "97c7f86c-fa1a-4e98-b643-afca2c5e6034",
   "metadata": {},
   "outputs": [
    {
     "name": "stdout",
     "output_type": "stream",
     "text": [
      "Average text ratings (numerical) for restaurants in each city:\n",
      "City\n",
      "Abu Dhabi          1.850000\n",
      "Agra               2.500000\n",
      "Ahmedabad          2.000000\n",
      "Albany             3.300000\n",
      "Allahabad          2.500000\n",
      "                     ...   \n",
      "Weirton            4.000000\n",
      "Wellington City    1.450000\n",
      "Winchester Bay     2.000000\n",
      "Yorkton            2.000000\n",
      "��stanbul          2.142857\n",
      "Name: text_rating_num, Length: 141, dtype: float64\n"
     ]
    }
   ],
   "source": [
    "rating_mapping = {'Good': 4, 'Very Good': 1, 'Average': 2, 'Excellent': 3, 'Not rated': 6, 'Poor': 5}  # example mapping\n",
    "\n",
    "df['text_rating_num'] = df['Rating text'].map(rating_mapping)\n",
    "\n",
    "city_text_ratings_num = df.groupby('City')['text_rating_num'].mean()\n",
    "\n",
    "print(\"Average text ratings (numerical) for restaurants in each city:\")\n",
    "print(city_text_ratings_num)"
   ]
  },
  {
   "cell_type": "code",
   "execution_count": 11,
   "id": "df95ab21-dc5b-4771-b04d-8aba258a1f07",
   "metadata": {},
   "outputs": [
    {
     "name": "stdout",
     "output_type": "stream",
     "text": [
      "                City  Average Rating\n",
      "0          Abu Dhabi        4.300000\n",
      "1               Agra        3.965000\n",
      "2          Ahmedabad        4.161905\n",
      "3             Albany        3.555000\n",
      "4          Allahabad        3.395000\n",
      "..               ...             ...\n",
      "136          Weirton        3.900000\n",
      "137  Wellington City        4.250000\n",
      "138   Winchester Bay        3.200000\n",
      "139          Yorkton        3.300000\n",
      "140        ��stanbul        4.292857\n",
      "\n",
      "[141 rows x 2 columns]\n"
     ]
    }
   ],
   "source": [
    "# Group the data by 'City' and calculate the mean of 'Aggregate rating'\n",
    "city_ratings = df.groupby('City')['Aggregate rating'].mean().reset_index()\n",
    "\n",
    "# Rename the 'Aggregate rating' column to 'Average Rating'\n",
    "city_ratings = city_ratings.rename(columns={'Aggregate rating': 'Average Rating'})\n",
    "\n",
    "# Print the results\n",
    "print(city_ratings)"
   ]
  },
  {
   "cell_type": "code",
   "execution_count": 12,
   "id": "96e11de7-48bd-4953-a66e-adcb1554d8a8",
   "metadata": {},
   "outputs": [],
   "source": [
    "city_ratings = city_ratings.sort_values('Average Rating', ascending=False)"
   ]
  },
  {
   "cell_type": "markdown",
   "id": "9ab1ec37-897c-435a-a577-8c207dc3ec96",
   "metadata": {},
   "source": [
    "## Determine the city with the highest average rating."
   ]
  },
  {
   "cell_type": "code",
   "execution_count": 13,
   "id": "16908466-323f-409b-9530-927da6192ca8",
   "metadata": {},
   "outputs": [
    {
     "name": "stdout",
     "output_type": "stream",
     "text": [
      "The city with the highest average rating is Inner City with an average rating of 4.90\n"
     ]
    }
   ],
   "source": [
    "# Group the data by 'City' and calculate the mean of 'Aggregate rating'\n",
    "city_ratings = df.groupby('City')['Aggregate rating'].mean().reset_index()\n",
    "\n",
    "# Sort the results in descending order by average rating\n",
    "city_ratings = city_ratings.sort_values('Aggregate rating', ascending=False)\n",
    "\n",
    "# Get the city with the highest average rating\n",
    "top_city = city_ratings.iloc[0]\n",
    "\n",
    "print(f\"The city with the highest average rating is {top_city['City']} with an average rating of {top_city['Aggregate rating']:.2f}\")"
   ]
  },
  {
   "cell_type": "markdown",
   "id": "54b8d248-57d9-49fe-828a-a4943ce1739f",
   "metadata": {},
   "source": [
    "## Task 3 : Price Range Distribution"
   ]
  },
  {
   "cell_type": "markdown",
   "id": "308a45e7-705b-443e-b202-15e426eff21b",
   "metadata": {},
   "source": [
    "## Create a histogram or bar chart to visualize the distribution of price ranges among the restaurants..\r"
   ]
  },
  {
   "cell_type": "code",
   "execution_count": 14,
   "id": "65b7b504-8b92-4562-9ed7-c03fff7616c0",
   "metadata": {},
   "outputs": [
    {
     "data": {
      "image/png": "[encoded data removed]",
      "text/plain": [
       "<Figure size 1000x600 with 1 Axes>"
      ]
     },
     "metadata": {},
     "output_type": "display_data"
    }
   ],
   "source": [
    "import seaborn as sns\n",
    "import matplotlib.pyplot as plt\n",
    "\n",
    "# Histogram\n",
    "plt.figure(figsize=(10, 6))\n",
    "sns.histplot(df['Price range'], bins=10, kde=False)\n",
    "plt.title('Histogram of Price Ranges')\n",
    "plt.xlabel('Price Range')\n",
    "plt.ylabel('Frequency')\n",
    "for p in plt.gca().patches:\n",
    "    plt.gca().text(p.get_x() + p.get_width()/2, p.get_height(), f'{p.get_height():.0f}', ha='center', va='bottom')\n",
    "plt.show()"
   ]
  },
  {
   "cell_type": "markdown",
   "id": "8957151b-8421-4034-aec7-15bf75710391",
   "metadata": {},
   "source": [
    "## Calculate the percentage of restaurants in each price range categoryy"
   ]
  },
  {
   "cell_type": "code",
   "execution_count": 15,
   "id": "318fd841-c68c-468d-a664-176fbf0eb81b",
   "metadata": {},
   "outputs": [
    {
     "name": "stdout",
     "output_type": "stream",
     "text": [
      "   Price Range  Count  Percentage\n",
      "0            1   4444   46.529159\n",
      "1            2   3113   32.593446\n",
      "2            3   1408   14.741912\n",
      "3            4    586    6.135483\n"
     ]
    }
   ],
   "source": [
    "total_restaurants = len(df)\n",
    "\n",
    "price_range_counts = df['Price range'].value_counts()\n",
    "price_range_percentages = (price_range_counts / total_restaurants) * 100\n",
    "\n",
    "price_range_distribution = pd.DataFrame({'Price Range': price_range_counts.index, \n",
    "                                        'Count': price_range_counts.values, \n",
    "                                        'Percentage': price_range_percentages.values})\n",
    "\n",
    "print(price_range_distribution)"
   ]
  },
  {
   "cell_type": "markdown",
   "id": "7653e2ce-39d0-4bae-97ec-b69e951d0440",
   "metadata": {},
   "source": [
    "## Task 4 : Online Delivery"
   ]
  },
  {
   "cell_type": "markdown",
   "id": "7df4c52f-e673-4242-b126-1bb114c8cdc7",
   "metadata": {},
   "source": [
    "## Determine the percentage of restaurants that offer online delivery"
   ]
  },
  {
   "cell_type": "code",
   "execution_count": 16,
   "id": "099305f0-22ca-47f9-829d-53a7d1ff99c8",
   "metadata": {},
   "outputs": [
    {
     "name": "stdout",
     "output_type": "stream",
     "text": [
      "Percentage of restaurants that offer online delivery: 25.66%\n"
     ]
    }
   ],
   "source": [
    "total_restaurants = len(df)\n",
    "\n",
    "online_delivery_yes = len(df[df['Has Online delivery'] == 'Yes'])\n",
    "\n",
    "online_delivery_percentage = (online_delivery_yes / total_restaurants) * 100\n",
    "\n",
    "print(f'Percentage of restaurants that offer online delivery: {online_delivery_percentage:.2f}%')"
   ]
  },
  {
   "cell_type": "markdown",
   "id": "c53aba26-96d0-4ad9-b51f-3ff0cf7b8f0a",
   "metadata": {},
   "source": [
    "## Compare the average ratings of restaurants with and without online delivery"
   ]
  },
  {
   "cell_type": "code",
   "execution_count": 17,
   "id": "1f0fec31-6ba1-41c6-9baa-6469f124b6b8",
   "metadata": {},
   "outputs": [
    {
     "name": "stdout",
     "output_type": "stream",
     "text": [
      "Average rating of restaurants with online delivery: 3.25\n",
      "Average rating of restaurants without online delivery: 2.47\n"
     ]
    }
   ],
   "source": [
    "online_delivery_avg_rating = df[df['Has Online delivery'] == 'Yes']['Aggregate rating'].mean()\n",
    "no_online_delivery_avg_rating = df[df['Has Online delivery'] == 'No']['Aggregate rating'].mean()\n",
    "\n",
    "print(f'Average rating of restaurants with online delivery: {online_delivery_avg_rating:.2f}')\n",
    "print(f'Average rating of restaurants without online delivery: {no_online_delivery_avg_rating:.2f}')"
   ]
  },
  {
   "cell_type": "code",
   "execution_count": null,
   "id": "2f478251-5c82-4fe7-adf8-72d4f24f5928",
   "metadata": {},
   "outputs": [],
   "source": []
  }
 ],
 "metadata": {
  "kernelspec": {
   "display_name": "Python 3 (ipykernel)",
   "language": "python",
   "name": "python3"
  },
  "language_info": {
   "codemirror_mode": {
    "name": "ipython",
    "version": 3
   },
   "file_extension": ".py",
   "mimetype": "text/x-python",
   "name": "python",
   "nbconvert_exporter": "python",
   "pygments_lexer": "ipython3",
   "version": "3.11.5"
  }
 },
 "nbformat": 4,
 "nbformat_minor": 5
}
